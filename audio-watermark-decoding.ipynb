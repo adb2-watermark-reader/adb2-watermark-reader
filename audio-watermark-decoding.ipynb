{
 "cells": [
  {
   "cell_type": "markdown",
   "metadata": {},
   "source": [
    "### A/334 Parameter Specification\r\n",
    "- Autocorrection Delay = 3ms\r\n",
    "- Sysmbol interval T = 1/106 seconds\r\n",
    "- Marking Frequency Band = 2.5kHz - 5.0kHz\r\n",
    "\r\n",
    "### Sample \r\n",
    "- frequency 48kHz -> 48000 frames/second\r\n",
    "- Symbol frames 48000/106 = ca. 453 frames\r\n",
    "\r\n",
    "### Help\r\n"
   ]
  },
  {
   "cell_type": "code",
   "execution_count": 5,
   "metadata": {},
   "outputs": [],
   "source": [
    "import wave\r\n",
    "import matplotlib.pyplot as plt\r\n",
    "import numpy as np"
   ]
  },
  {
   "cell_type": "code",
   "execution_count": 6,
   "metadata": {},
   "outputs": [
    {
     "name": "stdout",
     "output_type": "stream",
     "text": [
      "sampling rate: 48000 Hz\n",
      "length: 14880384 samples\n",
      "channels: 2\n",
      "sample width: 2 bytes\n"
     ]
    }
   ],
   "source": [
    "with wave.open('audio.wav', 'rb') as w:\r\n",
    "    framerate = w.getframerate()\r\n",
    "    frames = w.getnframes()\r\n",
    "    channels = w.getnchannels()\r\n",
    "    width = w.getsampwidth()\r\n",
    "    print('sampling rate:', framerate, 'Hz')\r\n",
    "    print('length:', frames, 'samples')\r\n",
    "    print('channels:', channels)\r\n",
    "    print('sample width:', width, 'bytes')\r\n",
    "    \r\n",
    "    data = w.readframes(frames)\r\n"
   ]
  },
  {
   "cell_type": "code",
   "execution_count": 7,
   "metadata": {},
   "outputs": [
    {
     "name": "stdout",
     "output_type": "stream",
     "text": [
      "59521536\n",
      "59521536\n"
     ]
    },
    {
     "data": {
      "text/plain": "bytes"
     },
     "execution_count": 7,
     "metadata": {},
     "output_type": "execute_result"
    }
   ],
   "source": [
    "print(2*2*14880384) #channels * sample width * sample length = 59521536 bytes buffersize\r\n",
    "print(len(data))\r\n",
    "type(data)"
   ]
  },
  {
   "cell_type": "code",
   "execution_count": 8,
   "metadata": {},
   "outputs": [],
   "source": [
    "sig = np.frombuffer(data, dtype='<i2').reshape(-1, channels)"
   ]
  },
  {
   "cell_type": "code",
   "execution_count": null,
   "metadata": {},
   "outputs": [],
   "source": [
    "plt.figure(figsize=(16, 6))\r\n",
    "plt.plot(sig)\r\n",
    "plt.show()\r\n"
   ]
  },
  {
   "cell_type": "code",
   "execution_count": 10,
   "metadata": {},
   "outputs": [
    {
     "ename": "ModuleNotFoundError",
     "evalue": "No module named 'utility'",
     "output_type": "error",
     "traceback": [
      "\u001b[1;31m---------------------------------------------------------------------------\u001b[0m",
      "\u001b[1;31mModuleNotFoundError\u001b[0m                       Traceback (most recent call last)",
      "\u001b[1;32m<ipython-input-10-6d65e948a93f>\u001b[0m in \u001b[0;36m<module>\u001b[1;34m\u001b[0m\n\u001b[1;32m----> 1\u001b[1;33m \u001b[1;32mimport\u001b[0m \u001b[0mutility\u001b[0m\u001b[1;33m\u001b[0m\u001b[1;33m\u001b[0m\u001b[0m\n\u001b[0m",
      "\u001b[1;31mModuleNotFoundError\u001b[0m: No module named 'utility'"
     ]
    }
   ],
   "source": []
  }
 ],
 "metadata": {
  "kernelspec": {
   "display_name": "Python 3.7.1 64-bit",
   "name": "python371jvsc74a57bd02755b51232e7d48cc438ba7758a5372f611f2885dff4ae1f3ddb05b518b34ab6"
  },
  "language_info": {
   "codemirror_mode": {
    "name": "ipython",
    "version": 3
   },
   "file_extension": ".py",
   "mimetype": "text/x-python",
   "name": "python",
   "nbconvert_exporter": "python",
   "pygments_lexer": "ipython3",
   "version": "3.7.1"
  },
  "orig_nbformat": 2
 },
 "nbformat": 4,
 "nbformat_minor": 2
}